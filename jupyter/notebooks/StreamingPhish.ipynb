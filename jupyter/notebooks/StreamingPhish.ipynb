{
 "cells": [
  {
   "cell_type": "markdown",
   "metadata": {},
   "source": [
    "# StreamingPhish\n",
    "------\n",
    "\n",
    "**Author**: Wes Connell <a href=\"https://twitter.com/wesleyraptor\">@wesleyraptor</a>\n",
    "\n",
    "This notebook is a subset of the streamingphish command-line tool and is focused exclusively on describing the process of going from raw data to a trained predictive model. If you've never trained a predictive model before, hopefully you find this notebook to be useful.\n",
    "\n",
    "We'll walk through each step in the machine learning lifecycle for developing a predictive model that examines a fully-qualified domain name (i.e. 'help.github.com') and predicts it as either phishing or not phishing. I've loosely defined these steps as follows:\n",
    "\n",
    "1. Load training data.\n",
    "2. Define features to extract from raw data.\n",
    "3. Compute the features.\n",
    "4. Train the classifier.\n",
    "5. Explore classifier performance metrics.\n",
    "6. Test the classifier against new data."
   ]
  },
  {
   "cell_type": "markdown",
   "metadata": {},
   "source": [
    "## 1. Load Training Data\n",
    "\n",
    "The data necessary for training (~5K phishing domains, and ~5K non-phishing domains) has already been curated. Calling this function loads the domain names from disk and returns them in a list. The function also returns the labels for the data, which is mandatory for supervised learning (0 = not phishing, 1 = phishing).\n",
    "\n",
    "Note that the ~10K total training samples are a subset of what the streamingphish CLI tool uses. This notebook is for demonstration purposes and I wanted to keep the feature extraction time to a few seconds (vs a minute or longer)."
   ]
  },
  {
   "cell_type": "code",
   "execution_count": 7,
   "metadata": {},
   "outputs": [],
   "source": [
    "import os\n",
    "import random\n",
    "\n",
    "def load_training_data():\n",
    "    \"\"\"\n",
    "    Load the phishing domains and benign domains from disk into python lists\n",
    "    \n",
    "    NOTE: I'm using a smaller set of samples than from the CLI tool so the feature extraction is quicker. \n",
    "    \n",
    "    @return training_data: dictionary where keys are domain names and values\n",
    "                are labels (0 = benign, 1 = phishing).\n",
    "    \"\"\"\n",
    "    training_data = {}\n",
    "    \n",
    "    benign_path = \"/opt/streamingphish/training_data/benign/\"\n",
    "    for root, dirs, files in os.walk(benign_path):\n",
    "        files = [f for f in files if not f[0] == \".\"]\n",
    "        for f in files:\n",
    "            with open(os.path.join(root, f)) as infile:\n",
    "                for item in infile.readlines():\n",
    "                    # Safeguard to prevent adding duplicate data to training set.\n",
    "                    if item not in training_data:\n",
    "                        training_data[item.strip('\\n')] = 0    \n",
    "\n",
    "    phishing_path = \"/opt/streamingphish/training_data/malicious/\"\n",
    "    for root, dirs, files in os.walk(phishing_path):\n",
    "        files = [f for f in files if not f[0] == \".\"]\n",
    "        for f in files:\n",
    "            with open(os.path.join(root, f)) as infile:\n",
    "                for item in infile.readlines():\n",
    "                    # Safeguard to prevent adding duplicate data to training set.\n",
    "                    if item not in training_data:\n",
    "                        training_data[item.strip('\\n')] = 1\n",
    "\n",
    "    print(\"[+] Completed.\") \n",
    "    print(\"\\t - Not phishing domains: {}\".format(sum(x == 0 for x in training_data.values())))\n",
    "    print(\"\\t - Phishing domains: {}\".format(sum(x == 1 for x in training_data.values())))\n",
    "    return training_data"
   ]
  },
  {
   "cell_type": "code",
   "execution_count": 8,
   "metadata": {},
   "outputs": [
    {
     "name": "stdout",
     "output_type": "stream",
     "text": [
      "[+] Completed.\n",
      "\t - Not phishing domains: 5363\n",
      "\t - Phishing domains: 5011\n"
     ]
    }
   ],
   "source": [
    "training_data = load_training_data()"
   ]
  },
  {
   "cell_type": "markdown",
   "metadata": {},
   "source": [
    "## 2. Define and Compute Features From Data\n",
    "\n",
    "Next step is to identify characteristics/features in the data that we think will be effective in distinguishing between the two classes (phishing and not phishing). As humans, we tend to prefer practically significant features (i.e. is 'paypal' in the subdomain?), but it's important to also consider statistically significant features that may not be obvious (i.e. measuring the standard deviation for number of subdomains across the entire population).\n",
    "\n",
    "The features identified in this research are spatial features, meaning each domain name is evaluated independently. The benefit is that the feature extraction is pretty simple (no need to focus on time intervals). Other implementations of machine learning for enterprise information security tend to be far more complex (multiple data sources, temporal features, sophisticated algorithms, etc).\n",
    "\n",
    "Features can either be categorical or continuous - this prototype uses a mix of both. Generally speaking, continuous features can be measured (number of dashes in a FQDN), whereas categorical features are more of a boolean expression (is the top-level domain 'co.uk'? is the top-level domain 'bid'? is the top-level domain 'com'?). The features from this prototype are as follows:\n",
    "\n",
    "- [Categorical] Top-level domain (TLD).\n",
    "- [Categorical] Targeted phishing brand presence in subdomain.\n",
    "- [Categorical] Targeted phishing brand presence in domain.\n",
    "- [Categorical] 1:1 keyword match of common phishing words.\n",
    "- [Continuous]  Domain entropy (randomness).\n",
    "- [Categorical] Levenshtein distance of 1 to common phishing words (word similarity).\n",
    "- [Continuous]  Number of periods.\n",
    "- [Continuous]  Number of dashes.\n",
    "\n",
    "We're merely defining the features we want to extract in the code snippet below (we'll actually invoke this method a few steps down the road)."
   ]
  },
  {
   "cell_type": "code",
   "execution_count": 9,
   "metadata": {},
   "outputs": [],
   "source": [
    "import os\n",
    "import math\n",
    "import re\n",
    "from collections import Counter, OrderedDict\n",
    "\n",
    "from Levenshtein import distance\n",
    "import tldextract\n",
    "import pandas as pd\n",
    "import numpy as np\n",
    "\n",
    "FEATURE_PATHS = {\n",
    "    'targeted_brands_dir': '/opt/streamingphish/training_data/targeted_brands/',\n",
    "    'keywords_dir': '/opt/streamingphish/training_data/keywords/',\n",
    "    'fqdn_keywords_dir': '/opt/streamingphish/training_data/fqdn_keywords/',\n",
    "    'similarity_words_dir': '/opt/streamingphish/training_data/similarity_words/',\n",
    "    'tld_dir': '/opt/streamingphish/training_data/tlds/'\n",
    "}\n",
    "\n",
    "class PhishFeatures:\n",
    "    \"\"\"\n",
    "    Library of functions that extract features from FQDNs. Each of those functions returns\n",
    "    a dictionary with feature names and their corresponding values, i.e.:\n",
    "        {\n",
    "            'num_dashes': 0,\n",
    "            'paypal_kw_present': 1,\n",
    "            'alexa_25k_domain': 0,\n",
    "            'entropy': 0\n",
    "        }\n",
    "    \"\"\"\n",
    "\n",
    "    def __init__(self):\n",
    "        \"\"\"\n",
    "        Loads keywords, phishing words, and targeted brands used by other functions in this class.\n",
    "\n",
    "        Args:\n",
    "            data_config (dictionary): Contains paths to files on disk needed for training.\n",
    "        \"\"\"\n",
    "        self._brands = self._load_from_directory(FEATURE_PATHS['targeted_brands_dir'])\n",
    "        self._keywords = self._load_from_directory(FEATURE_PATHS['keywords_dir'])\n",
    "        self._fqdn_keywords = self._load_from_directory(FEATURE_PATHS['fqdn_keywords_dir'])\n",
    "        self._similarity_words = self._load_from_directory(FEATURE_PATHS['similarity_words_dir'])\n",
    "        self._tlds = self._load_from_directory(FEATURE_PATHS['tld_dir'])\n",
    "\n",
    "    @staticmethod\n",
    "    def _remove_common_hosts(fqdn):\n",
    "        \"\"\"\n",
    "        Takes a FQDN, removes common hosts prepended to it in the subdomain, and returns it.\n",
    "\n",
    "        Args:\n",
    "            fqdn (string): FQDN from certstream.\n",
    "\n",
    "        Returns:\n",
    "            fqdn (string): FQDN with common benign hosts removed (these hosts have no bearing\n",
    "                on malicious/benign determination).\n",
    "        \"\"\"\n",
    "        try:\n",
    "            first_host = fqdn.split(\".\")[0]\n",
    "        except IndexError:\n",
    "            # In the event the FQDN doesn't have any periods?\n",
    "            # This would only happen in manual mode.\n",
    "            return fqdn\n",
    "\n",
    "        if first_host == \"*\":\n",
    "            fqdn = fqdn[2:]\n",
    "        elif first_host == \"www\":\n",
    "            fqdn = fqdn[4:]\n",
    "        elif first_host == \"mail\":\n",
    "            fqdn = fqdn[5:]\n",
    "        elif first_host == \"cpanel\":\n",
    "            fqdn = fqdn[7:]\n",
    "        elif first_host == \"webmail\":\n",
    "            fqdn = fqdn[8:]\n",
    "        elif first_host == \"webdisk\":\n",
    "            fqdn = fqdn[8:]\n",
    "        elif first_host == \"autodiscover\":\n",
    "            fqdn = fqdn[13:]\n",
    "\n",
    "        return fqdn\n",
    "\n",
    "    @staticmethod\n",
    "    def _fqdn_parts(fqdn):\n",
    "        \"\"\"\n",
    "        Break apart domain parts and return a dictionary representing the individual attributes\n",
    "        like subdomain, domain, and tld.\n",
    "\n",
    "        Args:\n",
    "            fqdn (string): FQDN being analyzed.\n",
    "\n",
    "        Returns:\n",
    "            result (dictionary): Each part of the fqdn, i.e. subdomain, domain, domain + tld\n",
    "        \"\"\"\n",
    "        parts = tldextract.extract(fqdn)\n",
    "        result = {}\n",
    "        result['subdomain'] = parts.subdomain\n",
    "        result['domain'] = parts.domain\n",
    "        result['tld'] = parts.suffix\n",
    "\n",
    "        return result\n",
    "\n",
    "    @staticmethod\n",
    "    def _load_from_directory(path):\n",
    "        \"\"\"\n",
    "        Read all text files from a directory on disk, creates list, and returns.\n",
    "\n",
    "        Args:\n",
    "            path (string): Path to directory on disk, i.e. '/opt/streamingphish/keywords/'\n",
    "\n",
    "        Returns:\n",
    "            values (list): Values from all text files in the supplied directory.\n",
    "        \"\"\"\n",
    "        values = []\n",
    "\n",
    "        # Load brand names from all the text files in the provided folder.\n",
    "        for root, _, files in os.walk(path):\n",
    "            files = [f for f in files if not f[0] == \".\"]\n",
    "            for f in files:\n",
    "                with open(os.path.join(root, f)) as infile:\n",
    "                    for item in infile.readlines():\n",
    "                        values.append(item.strip('\\n'))\n",
    "\n",
    "        return values\n",
    "\n",
    "    def compute_features(self, fqdns, values_only=True):\n",
    "        \"\"\"\n",
    "        Calls all the methods in this class that begin with '_fe_'. Not sure how pythonic\n",
    "        this is, but I wanted dynamic functions so those can be written without having\n",
    "        to manually define them here. Shooting for how python's unittest module works,\n",
    "        there's a chance this is a python crime.\n",
    "\n",
    "        Args:\n",
    "            fqdns (list): fqdns to compute features for.\n",
    "            values_only (boolean, optional): Instead computes a np array w/ values only\n",
    "                and returns that instead of a list of dictionaries (reduces perf overhead).\n",
    "\n",
    "        Returns:\n",
    "            result (dict): 'values' will always be returned - list of feature values of\n",
    "                each FQDN being analyzed. Optional key included is 'names', which is the\n",
    "                feature vector and will be returned if values_only=True.\n",
    "        \"\"\"\n",
    "        result = {}\n",
    "\n",
    "        # Raw features are a list of dictionaries, where keys = feature names and\n",
    "        # values = feature values.\n",
    "        features = []\n",
    "        for fqdn in fqdns:\n",
    "            sample = self._fqdn_parts(fqdn=fqdn)\n",
    "            sample['fqdn'] = self._remove_common_hosts(fqdn=fqdn)\n",
    "            sample['fqdn_words'] = re.split('\\W+', fqdn)\n",
    "\n",
    "            analysis = OrderedDict()\n",
    "            for item in dir(self):\n",
    "                if item.startswith('_fe_'):\n",
    "                    method = getattr(self, item)\n",
    "                    result = method(sample)\n",
    "                    analysis = {**analysis, **result}\n",
    "            # Must sort dictionary by key before adding.\n",
    "            analysis = OrderedDict(sorted(analysis.items()))\n",
    "            features.append(analysis)\n",
    "\n",
    "        # Split out keys and values from list of dictionaries. Keys = feature names, and\n",
    "        # values = feature values.\n",
    "        result = {}\n",
    "        result['values'] = []\n",
    "        for item in features:\n",
    "            result['values'].append(np.fromiter(item.values(), dtype=float))\n",
    "\n",
    "        if not values_only:\n",
    "            # Take the dictionary keys from the first item - this is the feature vector.\n",
    "            result['names'] = list(features[0].keys())\n",
    "\n",
    "        return result\n",
    "\n",
    "    def _fe_extract_tld(self, sample):\n",
    "        \"\"\"\n",
    "        Check if TLD is in a list of ~30 TLDs indicative of phishing / not phishing. Originally,\n",
    "        this was a categorical feature extended via get_dummies / one hot encoding, but it was\n",
    "        adding too many unnecessary features to the feature vector resulting in a large tax\n",
    "        performance wise.\n",
    "\n",
    "        Args:\n",
    "            sample (dictionary): Info about the sample being analyzed i.e. subdomain, tld, fqdn\n",
    "\n",
    "        Returns:\n",
    "            result (dictionary): Keys are feature names, values are feature scores.\n",
    "        \"\"\"\n",
    "        result = OrderedDict()\n",
    "        for item in self._tlds:\n",
    "            result[\"tld_{}\".format(item)] = 1 if item == sample['tld'] else 0\n",
    "\n",
    "        return result\n",
    "\n",
    "    def _fe_brand_presence(self, sample):\n",
    "        \"\"\"\n",
    "        Checks for brands targeted by phishing in subdomain (likely phishing) and in domain\n",
    "        + TLD (not phishing).\n",
    "\n",
    "        Args:\n",
    "            sample (dictionary): Info about the sample being analyzed i.e. subdomain, tld, fqdn\n",
    "\n",
    "        Retuns:\n",
    "            result (dictionary): Keys are feature names, values are feature scores.\n",
    "        \"\"\"\n",
    "        result = OrderedDict()\n",
    "        for item in self._brands:\n",
    "            result[\"{}_brand_subdomain\".format(item)] = 1 if item in sample['subdomain'] else 0\n",
    "            result[\"{}_brand_domain\".format(item)] = 1 if item in sample['domain'] else 0\n",
    "\n",
    "        return result\n",
    "\n",
    "    def _fe_keyword_match(self, sample):\n",
    "        \"\"\"\n",
    "        Look for presence of keywords anywhere in the FQDN i.e. 'account' would match on\n",
    "        'dswaccounting.tk'.\n",
    "\n",
    "        Args:\n",
    "            sample (dictionary): Info about the sample being analyzed i.e. subdomain, tld, fqdn\n",
    "\n",
    "        Returns:\n",
    "            result (dictionary): Keys are feature names, values are feature scores.\n",
    "        \"\"\"\n",
    "        result = OrderedDict()\n",
    "\n",
    "        for item in self._keywords:\n",
    "            result[item + \"_kw\"] = 1 if item in sample['fqdn'] else 0\n",
    "\n",
    "        return result\n",
    "\n",
    "    def _fe_keyword_match_fqdn_words(self, sample):\n",
    "        \"\"\"\n",
    "        Compare FQDN words (previous regex on special characters) against a list of common\n",
    "        phishing keywords, look for exact match on those words. Probably more decisive\n",
    "        in identifying phishing domains.\n",
    "\n",
    "        Args:\n",
    "            sample (dictionary): Info about the sample being analyzed i.e. subdomain, tld, fqdn\n",
    "\n",
    "        Returns:\n",
    "            result (dictionary): Keys are feature names, values are feature scores.\n",
    "        \"\"\"\n",
    "        result = OrderedDict()\n",
    "\n",
    "        for item in self._fqdn_keywords:\n",
    "            result[item + \"_kw_fqdn_words\"] = 1 if item in sample['fqdn_words'] else 0\n",
    "\n",
    "        return result\n",
    "\n",
    "    @staticmethod\n",
    "    def _fe_compute_domain_entropy(sample):\n",
    "        \"\"\"\n",
    "        Takes domain name from FQDN and computes entropy (randomness, repeated characters, etc).\n",
    "\n",
    "        Args:\n",
    "            sample (dictionary): Info about the sample being analyzed i.e. subdomain, tld, fqdn\n",
    "\n",
    "        Returns:\n",
    "            result (dictionary): Keys are feature names, values are feature scores.\n",
    "        \"\"\"\n",
    "        # Compute entropy of domain.\n",
    "        result = OrderedDict()\n",
    "        p, lns = Counter(sample['domain']), float(len(sample['domain']))\n",
    "        entropy = -sum(count / lns * math.log(count / lns, 2) for count in list(p.values()))\n",
    "\n",
    "        result['entropy'] = entropy\n",
    "        return result\n",
    "\n",
    "    def _fe_check_phishing_similarity_words(self, sample):\n",
    "        \"\"\"\n",
    "        Takes a list of words from the FQDN (split by special characters) and checks them\n",
    "        for similarity against words commonly disguised as phishing words. This method only\n",
    "        searches for a distance of 1.\n",
    "            i.e. 'pavpal' = 1 for 'paypal', 'verifycation' = 1 for 'verification',\n",
    "                'app1eid' = 1 for 'appleid'.\n",
    "\n",
    "        Args:\n",
    "            sample (dictionary): Info about the sample being analyzed i.e. subdomain, tld, fqdn\n",
    "\n",
    "        Returns:\n",
    "            result (dictionary): Keys are feature names, values are feature scores.\n",
    "        \"\"\"\n",
    "        result = OrderedDict()\n",
    "\n",
    "        for key in self._similarity_words:\n",
    "            result[key + \"_lev_1\"] = 0\n",
    "\n",
    "            for word in sample['fqdn_words']:\n",
    "                if distance(word, key) == 1:\n",
    "                    result[key + \"_lev_1\"] = 1\n",
    "\n",
    "        return result\n",
    "\n",
    "    @staticmethod\n",
    "    def _fe_number_of_dashes(sample):\n",
    "        \"\"\"\n",
    "        Compute the number of dashes - several could be a sign of URL padding, etc.\n",
    "\n",
    "        Args:\n",
    "            sample (dictionary): Info about the sample being analyzed i.e. subdomain, tld, fqdn\n",
    "\n",
    "        Returns:\n",
    "            result (dictionary): Keys are feature names, values are feature scores.\n",
    "        \"\"\"\n",
    "        result = OrderedDict()\n",
    "        result['num_dashes'] = 0 if \"xn--\" in sample['fqdn'] else sample['fqdn'].count(\"-\")\n",
    "        return result\n",
    "\n",
    "    @staticmethod\n",
    "    def _fe_number_of_periods(sample):\n",
    "        \"\"\"\n",
    "        Compute number of periods - several subdomains could be indicative of a phishing domain.\n",
    "\n",
    "        Args:\n",
    "            sample (dictionary): Info about the sample being analyzed i.e. subdomain, tld, fqdn\n",
    "\n",
    "        Returns:\n",
    "            result (dictionary): Keys are feature names, values are feature scores.\n",
    "        \"\"\"\n",
    "        result = OrderedDict()\n",
    "        result['num_periods'] = sample['fqdn'].count(\".\")\n",
    "        return result"
   ]
  },
  {
   "cell_type": "markdown",
   "metadata": {},
   "source": [
    "# 3. Compute the Features\n",
    "\n",
    "Let's create an instance of the `Features` class and invoke the `compute_features()` method. This method returns a list of numbers representing each domain in our training set. The position of each number is very important because it aligns to a single feature from the feature vector, for example:\n",
    "\n",
    " |Sample          | TLD   |\n",
    " |----------------|-------|\n",
    " |espn.com        | com   |\n",
    " |torproject.org  | org   |  \n",
    " |notphishing.tk  | tk    |\n",
    "\n",
    " |Sample          |TLD_com   |TLD_org     |TLD_tk     | \n",
    " |----------------|----------|------------|-----------|\n",
    " |espn.com        |1.0       |0.0         |0.0        |\n",
    " |torproject.org  |0.0       |1.0         |0.0        |    \n",
    " |notphishing.tk  |0.0       |0.0         |1.0        |\n",
    " \n",
    " We also save the feature vector to a variable named `feature_vector` because we'll use it shortly to visually depict the names of the features that have the highest coefficients (i.e. significantly impact the prediction score returned by the classifier). "
   ]
  },
  {
   "cell_type": "code",
   "execution_count": 10,
   "metadata": {},
   "outputs": [
    {
     "name": "stdout",
     "output_type": "stream",
     "text": [
      "[*] Computing features...\n",
      "[+] Features computed for the 10374 samples in the training set.\n"
     ]
    }
   ],
   "source": [
    "# Compute features.\n",
    "print(\"[*] Computing features...\")\n",
    "f = PhishFeatures()\n",
    "training_features = f.compute_features(training_data.keys(), values_only=False)\n",
    "feature_vector = training_features['names']\n",
    "print(\"[+] Features computed for the {} samples in the training set.\".format(len(training_features['values'])))"
   ]
  },
  {
   "cell_type": "markdown",
   "metadata": {},
   "source": [
    "# 4. Train the Classifier\n",
    "\n",
    "So far we've transformed the raw training data (['espn.com', 'api.twitter.com', 'apppleid-suspended.activity.apple.com.490548678792.tk']) into features that describe the data and also created the feature vector. Now we'll run through the remaining routines to train a classifier:\n",
    "\n",
    "1. Assign the labels (0 = benign, 1 = phishing) from the training samples to an array. We got the labels when we read in the training data from text files in step 1.\n",
    "2. Split the data into a training set and a test set (helps evaluate model performance like overfitting, accuracy, etc).\n",
    "3. Train a classifier using the Logistic Regression algorithm.\n",
    "\n",
    "**NOTE**: If this were anything beyond a simple prototype, I would evaluate multiple algorithms, multiple parameters for said algorithms, features for down-selection, and multiple folds for cross validation. Feel free to explore these concepts on your own - they are currently out of scope."
   ]
  },
  {
   "cell_type": "code",
   "execution_count": 11,
   "metadata": {},
   "outputs": [
    {
     "name": "stdout",
     "output_type": "stream",
     "text": [
      "[+] Assigned the labels to a numpy array.\n",
      "[+] Split the data into a training set and test set.\n",
      "[+] Completed training the classifier: LogisticRegression(C=10, class_weight=None, dual=False, fit_intercept=True,\n",
      "          intercept_scaling=1, max_iter=100, multi_class='ovr', n_jobs=1,\n",
      "          penalty='l2', random_state=None, solver='liblinear', tol=0.0001,\n",
      "          verbose=0, warm_start=False)\n"
     ]
    }
   ],
   "source": [
    "from sklearn.model_selection import train_test_split\n",
    "from sklearn.linear_model import LogisticRegression\n",
    "\n",
    "# Assign the labels (0s and 1s) to a numpy array.\n",
    "labels = np.fromiter(training_data.values(), dtype=np.float)\n",
    "print(\"[+] Assigned the labels to a numpy array.\")\n",
    "\n",
    "# Split the data into a training set and a test set.\n",
    "X_train, X_test, y_train, y_test = train_test_split(training_features['values'], labels, random_state=5)\n",
    "print(\"[+] Split the data into a training set and test set.\")\n",
    "\n",
    "# Insert silver bullet / black magic / david blaine / unicorn one-liner here :)\n",
    "classifier = LogisticRegression(C=10).fit(X_train, y_train)\n",
    "print(\"[+] Completed training the classifier: {}\".format(classifier))"
   ]
  },
  {
   "cell_type": "markdown",
   "metadata": {},
   "source": [
    "# 5. Explore Classifier Performance Metrics\n",
    "\n",
    "This section could be a book by itself. To keep this brief, we'll briefly touch on a few metrics we can use to evaluate performance:\n",
    "\n",
    "<h4>Accuracy Against Training and Test Sets:</h4> Since we have labeled data, we can run the features from each sample from our training set through the classifier and see if it predicts the right label. That's what the scores here represent. We can identify things like overfitting and underfitting (which can be attributed to any number of things, as we're in control of several independent variables like the algorithm, parameters, feature vector, training data, etc)."
   ]
  },
  {
   "cell_type": "code",
   "execution_count": 12,
   "metadata": {},
   "outputs": [
    {
     "name": "stdout",
     "output_type": "stream",
     "text": [
      "Accuracy on training set: 0.998\n",
      "Accuracy on test set: 0.994\n"
     ]
    }
   ],
   "source": [
    "# See how well it performs against training and test sets.\n",
    "print(\"Accuracy on training set: {:.3f}\".format(classifier.score(X_train, y_train)))\n",
    "print(\"Accuracy on test set: {:.3f}\".format(classifier.score(X_test, y_test)))"
   ]
  },
  {
   "cell_type": "markdown",
   "metadata": {},
   "source": [
    "<h4>Logistic Regression Coefficient Weights:</h4> This is the 'secret sauce' of supervised machine learning. Based on the training data, their respective labels, and the feature vector we generated, the algorithm determined the most optimal weights for each feature. The chart below depicts the features that were deemed to be most significant by the algorithm. The presence or absence of these features in domains that we evaluate **significantly** impacts the score returned by the trained classifier."
   ]
  },
  {
   "cell_type": "code",
   "execution_count": 13,
   "metadata": {},
   "outputs": [
    {
     "name": "stdout",
     "output_type": "stream",
     "text": [
      "Number of features: 348\n"
     ]
    },
    {
     "data": {
      "image/png": "[encoded data removed]",
      "text/plain": [
       "<Figure size 1080x360 with 1 Axes>"
      ]
     },
     "metadata": {},
     "output_type": "display_data"
    }
   ],
   "source": [
    "import mglearn\n",
    "%matplotlib inline\n",
    "import matplotlib.pyplot as plt\n",
    "\n",
    "print(\"Number of features: {}\".format(len(feature_vector)))\n",
    "\n",
    "# Visualize the most important coefficients from the LogisticRegression model.\n",
    "coef = classifier.coef_\n",
    "mglearn.tools.visualize_coefficients(coef, feature_vector, n_top_features=10)"
   ]
  },
  {
   "cell_type": "markdown",
   "metadata": {},
   "source": [
    "<h4>Precision / Recall:</h4> Precision shows how often the classifier is right when it cries wolf. Recall shows how many fish (no pun intended) the classifier caught out of all the fish in the pond. By default, the classifier assumes a malicious threshold of 0.5 on a scale of 0 to 1. This chart (and the subsequent TPR vs FPR chart) shows how these metrics change when increasing or decreasing the malicious threshold.<br>"
   ]
  },
  {
   "cell_type": "code",
   "execution_count": 14,
   "metadata": {},
   "outputs": [
    {
     "name": "stdout",
     "output_type": "stream",
     "text": [
      "Precision: 0.997\n",
      "Recall: 0.991\n",
      "Threshold: 0.515\n"
     ]
    },
    {
     "data": {
      "image/png": "[encoded data removed]",
      "text/plain": [
       "<Figure size 432x288 with 1 Axes>"
      ]
     },
     "metadata": {},
     "output_type": "display_data"
    }
   ],
   "source": [
    "from sklearn.metrics import precision_recall_curve\n",
    "\n",
    "precision, recall, thresholds = precision_recall_curve(y_test, classifier.predict_proba(X_test)[:, 1])\n",
    "close_zero = np.argmin(np.abs(thresholds - 0.5))\n",
    "plt.plot(precision[close_zero], recall[close_zero], 'o', markersize=10, label=\"threshold 0.5\", fillstyle=\"none\",\n",
    "        c='k', mew=2)\n",
    "plt.plot(precision, recall, label=\"precision recall curve\")\n",
    "plt.xlabel(\"Precision\")\n",
    "plt.ylabel(\"Recall\")\n",
    "plt.legend(loc=\"best\")\n",
    "print(\"Precision: {:.3f}\\nRecall: {:.3f}\\nThreshold: {:.3f}\".format(precision[close_zero], recall[close_zero], thresholds[close_zero]))"
   ]
  },
  {
   "cell_type": "markdown",
   "metadata": {},
   "source": [
    "<h4>True Positive Rate (TPR) / False Positive Rate (FPR):</h4> Basically a summary of misclassifications from the classifier against the test set.<br>"
   ]
  },
  {
   "cell_type": "code",
   "execution_count": 15,
   "metadata": {},
   "outputs": [
    {
     "name": "stdout",
     "output_type": "stream",
     "text": [
      "TPR: 0.989\n",
      "FPR: 0.003\n",
      "Threshold: 0.534\n"
     ]
    },
    {
     "data": {
      "image/png": "[encoded data removed]",
      "text/plain": [
       "<Figure size 432x288 with 1 Axes>"
      ]
     },
     "metadata": {},
     "output_type": "display_data"
    }
   ],
   "source": [
    "from sklearn.metrics import roc_curve\n",
    "\n",
    "fpr, tpr, thresholds = roc_curve(y_test, classifier.predict_proba(X_test)[:, 1])\n",
    "plt.plot(fpr, tpr, label=\"ROC Curve\")\n",
    "plt.xlabel(\"FPR\")\n",
    "plt.ylabel(\"TPR (recall)\")\n",
    "close_zero = np.argmin(np.abs(thresholds - 0.5))\n",
    "plt.plot(fpr[close_zero], tpr[close_zero], 'o', markersize=10, label=\"threshold 0.5\", fillstyle=\"none\", c=\"k\",\n",
    "        mew=2)\n",
    "plt.legend(loc=4)\n",
    "print(\"TPR: {:.3f}\\nFPR: {:.3f}\\nThreshold: {:.3f}\".format(tpr[close_zero], fpr[close_zero],\n",
    "                                                                thresholds[close_zero]))"
   ]
  },
  {
   "cell_type": "markdown",
   "metadata": {},
   "source": [
    "<h4>Classification Report:</h4> Shows a lot of the same metrics plus the f1-score (combination of precision and recall) as well as support (shows possible class imbalance from the training set.<br>"
   ]
  },
  {
   "cell_type": "code",
   "execution_count": 16,
   "metadata": {},
   "outputs": [
    {
     "name": "stdout",
     "output_type": "stream",
     "text": [
      "              precision    recall  f1-score   support\n",
      "\n",
      "Not Phishing       0.99      1.00      0.99      1380\n",
      "    Phishing       1.00      0.99      0.99      1214\n",
      "\n",
      " avg / total       0.99      0.99      0.99      2594\n",
      "\n"
     ]
    }
   ],
   "source": [
    "from sklearn.metrics import classification_report\n",
    "\n",
    "predictions = classifier.predict_proba(X_test)[:, 1] > 0.5\n",
    "print(classification_report(y_test, predictions, target_names=['Not Phishing', 'Phishing']))"
   ]
  },
  {
   "cell_type": "markdown",
   "metadata": {},
   "source": [
    "<h4>Confusion Matrix:</h4> Also depicts misclassifications against the test dataset."
   ]
  },
  {
   "cell_type": "code",
   "execution_count": 17,
   "metadata": {},
   "outputs": [
    {
     "name": "stdout",
     "output_type": "stream",
     "text": [
      "Confusion matrix:\n",
      "[[1376    4]\n",
      " [  11 1203]]\n"
     ]
    },
    {
     "data": {
      "image/png": "[encoded data removed]",
      "text/plain": [
       "<Figure size 432x288 with 1 Axes>"
      ]
     },
     "metadata": {},
     "output_type": "display_data"
    }
   ],
   "source": [
    "# Confusion matrix.\n",
    "from sklearn.metrics import confusion_matrix\n",
    "\n",
    "confusion = confusion_matrix(y_test, predictions)\n",
    "print(\"Confusion matrix:\\n{}\".format(confusion))\n",
    "\n",
    "# A prettier way to see the same data.\n",
    "scores_image = mglearn.tools.heatmap(\n",
    "        confusion_matrix(y_test, predictions), xlabel=\"Predicted Label\", ylabel=\"True Label\",\n",
    "        xticklabels=[\"Not Phishing\", \"Phishing\"],\n",
    "        yticklabels=[\"Not Phishing\", \"Phishing\"],\n",
    "        cmap=plt.cm.gray_r, fmt=\"%d\")\n",
    "plt.title(\"Confusion Matrix\")\n",
    "plt.gca().invert_yaxis()"
   ]
  },
  {
   "cell_type": "markdown",
   "metadata": {},
   "source": [
    "# 6. Test Classifier Against New Data\n",
    "\n",
    "The metrics look great. The code snippet below shows how you can transform a list of any FQDNs you'd like, extract features, reindex the features against the feature vector from training, and make a prediction."
   ]
  },
  {
   "cell_type": "code",
   "execution_count": 18,
   "metadata": {},
   "outputs": [],
   "source": [
    "phish = PhishFeatures()    # We need the compute_features() method to evaluate new data.\n",
    "LABEL_MAP = {0: \"Not Phishing\", 1: \"Phishing\"}"
   ]
  },
  {
   "cell_type": "code",
   "execution_count": 19,
   "metadata": {},
   "outputs": [
    {
     "name": "stdout",
     "output_type": "stream",
     "text": [
      "[Not Phishing]\tpaypal.com\t0.013\n",
      "[Not Phishing]\tapple.com\t0.001\n",
      "[Not Phishing]\tpatternex.com\t0.000\n",
      "[Phishing]\tsupport-apple.xyz\t0.994\n",
      "[Phishing]\tpaypall.com\t0.580\n",
      "[Phishing]\tpavpal-verify.com\t0.991\n",
      "[Phishing]\tupdatenowfree.safe\t0.784\n"
     ]
    }
   ],
   "source": [
    "example_domains = [\n",
    "    \"paypal.com\",\n",
    "    \"apple.com\",\n",
    "    \"patternex.com\",\n",
    "    \"support-apple.xyz\",\n",
    "    \"paypall.com\",\n",
    "    \"pavpal-verify.com\",\n",
    "    \"updatenowfree.safe\"\n",
    "]\n",
    "\n",
    "# Compute features, and also note we need to provide the feature vector from when we\n",
    "# trained the model earlier in this notebook.\n",
    "features = phish.compute_features(example_domains)\n",
    "prediction = classifier.predict_proba(features['values'])[:, 1] > 0.5\n",
    "prediction_scores = classifier.predict_proba(features['values'])[:, 1]\n",
    "\n",
    "for domain, classification, score in zip(example_domains, prediction, prediction_scores):\n",
    "    print(\"[{}]\\t{}\\t{:.3f}\".format(LABEL_MAP[classification], domain, score))"
   ]
  },
  {
   "cell_type": "markdown",
   "metadata": {},
   "source": [
    "<div style=\"float: center; margin: 10px 10px 10px 10px\"><img src=\"../images/fishwordgraph.png\"></div>"
   ]
  }
 ],
 "metadata": {
  "kernelspec": {
   "display_name": "Python 3",
   "language": "python",
   "name": "python3"
  },
  "language_info": {
   "codemirror_mode": {
    "name": "ipython",
    "version": 3
   },
   "file_extension": ".py",
   "mimetype": "text/x-python",
   "name": "python",
   "nbconvert_exporter": "python",
   "pygments_lexer": "ipython3",
   "version": "3.5.2"
  }
 },
 "nbformat": 4,
 "nbformat_minor": 2
}
